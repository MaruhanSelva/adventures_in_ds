{
 "cells": [
  {
   "cell_type": "markdown",
   "metadata": {},
   "source": [
    "I just pasted my gridsearch cv on here because the rest of the code for the variables is just what Maruhan did for XGboost. Let me know if I did anything wrong"
   ]
  },
  {
   "cell_type": "code",
   "execution_count": null,
   "metadata": {},
   "outputs": [],
   "source": [
    "from sklearn.model_selection import GridSearchCV\n",
    "\n",
    "param_grid = {                                         # the range I tried and best results I got\n",
    "    'gradientboostingclassifier__learning_rate': [0.1],#[0.01, 0.1, 0.5],\n",
    "    'gradientboostingclassifier__n_estimators': [200],#[50, 100, 200],\n",
    "    'gradientboostingclassifier__max_depth': [3],#[3, 5, 7],\n",
    "}\n",
    "\n",
    "grid_search = GridSearchCV(pipe_xg, param_grid, cv=5, scoring='neg_log_loss', n_jobs=-1)\n",
    "grid_search.fit(X_train_xg, y_train_xg.values.ravel())\n",
    "\n",
    "best_params = grid_search.best_params_\n",
    "best_model = grid_search.best_estimator_\n",
    "\n",
    "pred_xg = best_model.predict_proba(X_test_xg)\n",
    "\n",
    "multiclass_loss = loss(pred_xg, y_test_xg.values.ravel())\n",
    "print(\"Multinomial Log Loss:\", multiclass_loss)\n",
    "\n",
    "print(\"Best Hyperparameters:\", best_params)\n"
   ]
  }
 ],
 "metadata": {
  "language_info": {
   "name": "python"
  }
 },
 "nbformat": 4,
 "nbformat_minor": 2
}
