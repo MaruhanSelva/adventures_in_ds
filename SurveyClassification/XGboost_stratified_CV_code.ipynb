{
 "cells": [
  {
   "cell_type": "markdown",
   "metadata": {},
   "source": [
    "x_train_no_blanks is just X_train with all the columns that Maruhan dropped by inspection in the beginning and with blanks filled in with -3."
   ]
  },
  {
   "cell_type": "code",
   "execution_count": null,
   "metadata": {},
   "outputs": [],
   "source": [
    "y_no_zeroes = y\n",
    "for column in y_no_zeroes.columns:\n",
    "    y_no_zeroes[column] = y_no_zeroes[column].replace(-1, 0)\n",
    "\n",
    "print(y_no_zeroes.shape)"
   ]
  },
  {
   "cell_type": "code",
   "execution_count": null,
   "metadata": {},
   "outputs": [],
   "source": [
    "from sklearn.model_selection import GridSearchCV, KFold, StratifiedKFold\n",
    "from sklearn.model_selection import train_test_split\n",
    "import xgboost as xgb\n",
    "\n",
    "# The X_train_no_blanks had l_data before\n",
    "X_train_xg, X_test_xg, y_train_xg, y_test_xg = train_test_split(X_train_no_blanks, y_no_zeroes, random_state=20851822, test_size=0.2)"
   ]
  },
  {
   "cell_type": "code",
   "execution_count": null,
   "metadata": {},
   "outputs": [],
   "source": [
    "xgboost_model = xgb.XGBClassifier(objective=\"multi:softmax\", subsample=0.5, random_state=20851822)\n",
    "stratkfold = StratifiedKFold(n_splits=5, shuffle=True, random_state=20851822)\n",
    "\n",
    "interaction_vals = [42, 46, 50, 54, 58, 62]# old values[50, 54, 58, 62, 66, 70]  best value #[62]\n",
    "shrinkage_vals =  [1, 0.1, 0.01] #[0.1]\n",
    "param_grid = dict(max_leaves=interaction_vals, learning_rate=shrinkage_vals)\n",
    "\n",
    "grid_search = GridSearchCV(xgboost_model, param_grid, scoring=\"neg_log_loss\", n_jobs=-1, cv=stratkfold)\n",
    "\n",
    "grid_search.fit(X_train_xg, y_train_xg.values.ravel())\n",
    "\n",
    "best_params = grid_search.best_params_\n",
    "best_model = grid_search.best_estimator_\n",
    "\n",
    "pred_new = best_model.predict_proba(X_test_xg)\n",
    "\n",
    "multiclass_loss = loss(pred_new, y_test_xg.values.ravel())\n",
    "print(\"Multiclass Log Loss:\", multiclass_loss)\n",
    "\n",
    "print(\"Best Hyperparameters:\", best_params)"
   ]
  }
 ],
 "metadata": {
  "language_info": {
   "name": "python"
  }
 },
 "nbformat": 4,
 "nbformat_minor": 2
}
