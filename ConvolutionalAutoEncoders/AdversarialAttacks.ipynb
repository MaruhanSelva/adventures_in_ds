{
  "cells": [
    {
      "cell_type": "markdown",
      "metadata": {
        "id": "pYTmJhOLrBK8"
      },
      "source": [
        "# Adversarial Attacks\n",
        "\n",
        "In this file, we will be looking at using adversarial attacks to confuse a neural network.\n",
        "\n",
        "Specifically I will be using the MNIST Dataset which is a dataset of handwritten digits (0-9).\n",
        "\n",
        "I recommend using Google Colab to run this file (especially if you don't have a GPU), or else it may take a long time to run (or may not run at all).\n",
        "\n",
        "You'll find untargetted and targetted adversarial attacks in this notebook."
      ]
    },
    {
      "cell_type": "code",
      "execution_count": null,
      "metadata": {
        "id": "N7Qr8Rx0rBK-"
      },
      "outputs": [],
      "source": [
        "# Standard imports\n",
        "import numpy as np\n",
        "import torch\n",
        "import torch.nn as nn\n",
        "import torchvision\n",
        "import torchvision.transforms as T\n",
        "import matplotlib.pyplot as plt\n",
        "from tqdm import tqdm"
      ]
    },
    {
      "cell_type": "code",
      "execution_count": null,
      "metadata": {
        "id": "wQUi8y_8rBK_"
      },
      "outputs": [],
      "source": [
        "# In case you are fortunate enough to have access to a GPU.\n",
        "device = 'cuda' if torch.cuda.is_available() else 'cpu'"
      ]
    },
    {
      "cell_type": "markdown",
      "metadata": {
        "id": "ZTT0BXIArBLA"
      },
      "source": [
        "# Dataset: flattened MNIST"
      ]
    },
    {
      "cell_type": "code",
      "execution_count": null,
      "metadata": {
        "id": "Mx99owWnrBLA"
      },
      "outputs": [],
      "source": [
        "# You can change img_size to 14 if you want to use smaller (14x14) images.\n",
        "img_size = 28\n",
        "ds = torchvision.datasets.MNIST('./files/', train=False, download=True,\n",
        "                            transform=T.Compose([\n",
        "                                T.Resize((img_size,img_size)),\n",
        "                                T.ToTensor(),\n",
        "                                T.Lambda((lambda x: torch.flatten(x))),\n",
        "                            ]))"
      ]
    },
    {
      "cell_type": "code",
      "execution_count": null,
      "metadata": {
        "id": "c4KwXcrWrBLA"
      },
      "outputs": [],
      "source": [
        "def draw(x):\n",
        "    '''Displays a flattened MNIST digit'''\n",
        "    with torch.no_grad():\n",
        "        plt.imshow(x.cpu().numpy().reshape((img_size,img_size)), cmap='gray');\n",
        "        plt.axis('off');"
      ]
    },
    {
      "cell_type": "code",
      "execution_count": null,
      "metadata": {
        "id": "6SS0PZtZrBLA"
      },
      "outputs": [],
      "source": [
        "x,t = ds.__getitem__(5000)\n",
        "draw(x)"
      ]
    },
    {
      "cell_type": "markdown",
      "metadata": {
        "id": "XB2xkJgdrBLA"
      },
      "source": [
        "# Network\n",
        "Creating a Network to be able to perform classification on the MNIST Dataset."
      ]
    },
    {
      "cell_type": "code",
      "execution_count": null,
      "metadata": {
        "id": "DOpXXQIirBLB"
      },
      "outputs": [],
      "source": [
        "class MyNet(nn.Module):\n",
        "    '''\n",
        "     net = MyNet(img_size=28)\n",
        "\n",
        "     Creates a neural network to do classification on MNIST.\n",
        "     It assumes the images will be (img_size)x(img_size).\n",
        "\n",
        "     The output of the network is the log of the 10 class probabilities\n",
        "     (ie. log-softmax). Correspondingly, this network uses the\n",
        "     negative log-likelihood loss function (nn.NLLLoss).\n",
        "    '''\n",
        "    def __init__(self, img_size=28):\n",
        "        super().__init__()\n",
        "        self.lyrs = nn.Sequential(\n",
        "            nn.Linear(img_size**2, 100), nn.ReLU(),\n",
        "            nn.Linear(100, 50), nn.ReLU(),\n",
        "            nn.Linear(50, 10), nn.LogSoftmax(dim=-1),\n",
        "            )\n",
        "        self.loss_fcn = nn.NLLLoss()\n",
        "        self.losses = []\n",
        "        self.to(device)\n",
        "\n",
        "\n",
        "    def forward(self, x):\n",
        "        return self.lyrs(x)\n",
        "\n",
        "\n",
        "    def learn(self, dl, optimizer=None, epochs=10):\n",
        "        '''\n",
        "         net.learn(dl, optimizer=None, epochs=10)\n",
        "\n",
        "         Train the network on the dataset represented by the DataLoader dl.\n",
        "         The default optimizer is Adam().\n",
        "\n",
        "         The targets for the dataset are assumed to be class indices.\n",
        "        '''\n",
        "        if optimizer is None:\n",
        "            print('Need to specify an optimizer and loss function')\n",
        "            return\n",
        "\n",
        "        for epoch in tqdm(range(epochs)):\n",
        "            total_loss = 0.\n",
        "            count = 0.\n",
        "            for x, t in dl:\n",
        "                x = x.to(device)   # for use with a GPU\n",
        "                t = t.to(device)\n",
        "                y = self(x)\n",
        "                loss = self.loss_fcn(y, t)\n",
        "                optimizer.zero_grad()\n",
        "                loss.backward()\n",
        "                optimizer.step()\n",
        "                total_loss += loss.detach().numpy()\n",
        "                count += 1.\n",
        "            self.losses.append(total_loss/len(dl))\n",
        "            #print(f'Epoch: {epoch}, loss: {total_loss/count}')\n",
        "        plt.figure(figsize=(4,4))\n",
        "        plt.plot(self.losses); plt.yscale('log');"
      ]
    },
    {
      "cell_type": "code",
      "execution_count": null,
      "metadata": {
        "id": "pfeH9tBqrBLB"
      },
      "outputs": [],
      "source": [
        "net = MyNet(img_size)"
      ]
    },
    {
      "cell_type": "code",
      "execution_count": null,
      "metadata": {
        "id": "cK7NoIDErBLC"
      },
      "outputs": [],
      "source": [
        "dl = torch.utils.data.DataLoader(ds, batch_size=64, shuffle=True)\n",
        "net.learn(dl, optimizer=torch.optim.Adam(net.parameters(), lr=0.001), epochs=200)"
      ]
    },
    {
      "cell_type": "code",
      "execution_count": null,
      "metadata": {
        "id": "jwI4QwUIrBLC"
      },
      "outputs": [],
      "source": [
        "def accuracy(net, dl):\n",
        "    total_correct = 0.\n",
        "    for x,t in dl:\n",
        "        y = net(x.to(device))\n",
        "        blah = torch.argmax(y.cpu(), dim=1)\n",
        "        total_correct += torch.sum(blah==t).cpu().item()\n",
        "    return total_correct/len(dl.dataset)\n",
        "\n",
        "dl = torch.utils.data.DataLoader(ds, batch_size=256)\n",
        "acc = accuracy(net, dl)\n",
        "print(f'Accuracy = {acc*100.:0.2f}%')\n",
        "\n",
        "# Classify a random digit\n",
        "idx = np.random.randint(len(ds))\n",
        "print(idx)\n",
        "x, t = ds.__getitem__(idx)\n",
        "y = net(x)\n",
        "draw(x)\n",
        "plt.title(f'Predicted: {torch.argmax(y)}, True: {t}');"
      ]
    },
    {
      "cell_type": "markdown",
      "metadata": {
        "id": "t5t5PffDrBLC"
      },
      "source": [
        "# `fgsm` Method"
      ]
    },
    {
      "cell_type": "code",
      "execution_count": null,
      "metadata": {
        "id": "q0TwfiBLrBLD"
      },
      "outputs": [],
      "source": [
        "def fgsm(net, x, t, eps=0.01, targ=False):\n",
        "    '''\n",
        "        x_adv = FGSM(net, x, t, eps=0.01, targ=False)\n",
        "\n",
        "        Performs the Fast Gradient Sign Method, perturbing each input by\n",
        "        eps (in infinity norm) in an attempt to have it misclassified.\n",
        "\n",
        "        Inputs:\n",
        "          net    PyTorch Module object\n",
        "          x      (D,I) tensor containing a batch of D inputs\n",
        "          t      tensor of D corresponding class indices\n",
        "          eps    the maximum infinity-norm perturbation from the input\n",
        "          targ   Boolean, indicating if the FGSM is targetted\n",
        "                   - if targ is False, then t is considered to be the true\n",
        "                     class of the input, and FGSM will work to increase the cost\n",
        "                     for that target\n",
        "                   - if targ is True, then t is considered to be the target\n",
        "                     class for the perturbation, and FGSM will work to decrease the\n",
        "                     cost of the output for that target class\n",
        "\n",
        "        Output:\n",
        "          x_adv  tensor of a batch of adversarial inputs, the same size as x\n",
        "    '''\n",
        "\n",
        "    # You probably want to create a copy of x so you can work with it.\n",
        "    x_adv = x.clone().to(device)\n",
        "    \n",
        "    for i in range(x_adv.size()[0]):\n",
        "      input = x[i]\n",
        "      input.requires_grad = True\n",
        "      target = t[i]\n",
        "      y = net(input)\n",
        "      loss = net.loss_fcn(y, target)\n",
        "      net.zero_grad()\n",
        "      loss.backward()\n",
        "      gradient = input.grad.data.sign()\n",
        "      if targ == False: # Untargetted\n",
        "        x_adv[i] = x[i] + eps*gradient\n",
        "      else: # Targ == True, Targetted\n",
        "        x_adv[i] = x[i] - eps*gradient\n",
        "      x_adv[i] = torch.clamp(x_adv[i], 0, 1)\n",
        "    return x_adv"
      ]
    },
    {
      "cell_type": "markdown",
      "metadata": {
        "id": "vSepDdb4rBLD"
      },
      "source": [
        "# Untargetted Adversarial Attack"
      ]
    },
    {
      "cell_type": "code",
      "execution_count": null,
      "metadata": {
        "id": "-qyTX_yfrBLD"
      },
      "outputs": [],
      "source": [
        "# Create a batch consisting of one correctly-classified digit\n",
        "# from each class.\n",
        "x_0, t_0 = ds.__getitem__(10)\n",
        "x_1, t_1 = ds.__getitem__(1986)\n",
        "x_2, t_2 = ds.__getitem__(4274)\n",
        "x_3, t_3 = ds.__getitem__(982)\n",
        "x_4, t_4 = ds.__getitem__(6872)\n",
        "x_5, t_5 = ds.__getitem__(207)\n",
        "x_6, t_6 = ds.__getitem__(6229)\n",
        "x_7, t_7 = ds.__getitem__(9586)\n",
        "x_8, t_8 = ds.__getitem__(3204)\n",
        "x_9, t_9 = ds.__getitem__(5523)\n",
        "x = torch.zeros((10, img_size**2)) \n",
        "x[0] = x_0\n",
        "x[1] = x_1\n",
        "x[2] = x_2\n",
        "x[3] = x_3\n",
        "x[4] = x_4\n",
        "x[5] = x_5\n",
        "x[6] = x_6\n",
        "x[7] = x_7\n",
        "x[8] = x_8\n",
        "x[9] = x_9\n",
        "t = torch.arange(start=0, end=10)"
      ]
    },
    {
      "cell_type": "code",
      "execution_count": null,
      "metadata": {
        "id": "lU9N6MZNrBLD"
      },
      "outputs": [],
      "source": [
        "# Call fgsm on that batch\n",
        "value = fgsm(net, x, t, eps=0.07)"
      ]
    },
    {
      "cell_type": "code",
      "execution_count": null,
      "metadata": {
        "colab": {
          "base_uri": "https://localhost:8080/",
          "height": 675
        },
        "id": "kt9cgawHrBLD",
        "outputId": "bd602a47-cdeb-4358-a185-750712e86eee"
      },
      "outputs": [
        {
          "data": {
            "image/png": "[encoded data removed]",
            "text/plain": [
              "<Figure size 1400x700 with 10 Axes>"
            ]
          },
          "metadata": {},
          "output_type": "display_data"
        }
      ],
      "source": [
        "# Display all 10 digits, including the true class/probability,\n",
        "# and the predicted class/probability.\n",
        "plt.figure(figsize=(14,7))\n",
        "for n,xx in enumerate(x):\n",
        "    plt.subplot(2,5,n+1); draw(xx);\n",
        "    # Get the probability of true class\n",
        "    # original class\n",
        "    target = t[n].item()\n",
        "    y = net(value[n])\n",
        "    probs = torch.exp(y)\n",
        "    prob_target = probs[target].item()\n",
        "    # Predicted Class\n",
        "    max_prob = max(probs).item()\n",
        "    max_target = 0 # will change\n",
        "    # Determine which class that max prob belongs to\n",
        "    for i in range(10):\n",
        "      if probs[i] == max_prob:\n",
        "        max_target = i\n",
        "\n",
        "    title_string = \"y_\" + str(target) + \"=\" + str(round(prob_target, 5)) + \"\\n\"\n",
        "    title_string += \"y_\" + str(max_target) + \"=\" + str(round(max_prob, 5))\n",
        "    plt.title(title_string, fontsize=16)\n",
        "plt.tight_layout()"
      ]
    },
    {
      "cell_type": "markdown",
      "metadata": {
        "id": "5MzYK64mrBLD"
      },
      "source": [
        "# Targetted Adversarial Attack"
      ]
    },
    {
      "cell_type": "code",
      "execution_count": null,
      "metadata": {
        "id": "H8LcngQMrBLE"
      },
      "outputs": [],
      "source": [
        "# Targetted Adversarial Attack\n",
        "x_3c, t_3c = ds.__getitem__(1913)\n",
        "x_8c, t_8c = ds.__getitem__(4890)\n",
        "x_7c, t_7c = ds.__getitem__(41)\n",
        "xc = torch.zeros((3, img_size**2))\n",
        "xc[0] = x_3c\n",
        "xc[1] = x_8c\n",
        "xc[2] = x_7c\n",
        "tc = torch.tensor([8, 6, 3])\n",
        "targetted_vals = fgsm(net, xc, tc, eps=0.04, targ=True)"
      ]
    },
    {
      "cell_type": "code",
      "execution_count": null,
      "metadata": {
        "colab": {
          "base_uri": "https://localhost:8080/",
          "height": 508
        },
        "id": "2BwSoaFbrBLE",
        "outputId": "a0ecf834-604b-42a1-9fee-1590949790fa"
      },
      "outputs": [
        {
          "data": {
            "image/png": "[encoded data removed]",
            "text/plain": [
              "<Figure size 1400x700 with 3 Axes>"
            ]
          },
          "metadata": {},
          "output_type": "display_data"
        }
      ],
      "source": [
        "plt.figure(figsize=(14,7))\n",
        "for n,xx in enumerate(xc):\n",
        "    plt.subplot(1,3,n+1); draw(xx);\n",
        "    # Get the probability of true class\n",
        "    # original class\n",
        "    target = tc[n].item()\n",
        "    y = net(targetted_vals[n])\n",
        "    probs = torch.exp(y)\n",
        "    prob_target = probs[target].item()\n",
        "    title_string = \"y_\" + str(target) + \"=\" + str(round(prob_target, 5))\n",
        "    plt.title(title_string, fontsize=16)\n",
        "plt.tight_layout()"
      ]
    }
  ],
  "metadata": {
    "colab": {
      "provenance": []
    },
    "kernelspec": {
      "display_name": "torch",
      "language": "python",
      "name": "torch"
    },
    "language_info": {
      "codemirror_mode": {
        "name": "ipython",
        "version": 3
      },
      "file_extension": ".py",
      "mimetype": "text/x-python",
      "name": "python",
      "nbconvert_exporter": "python",
      "pygments_lexer": "ipython3",
      "version": "3.8.18"
    },
    "varInspector": {
      "cols": {
        "lenName": 16,
        "lenType": 16,
        "lenVar": 40
      },
      "kernels_config": {
        "python": {
          "delete_cmd_postfix": "",
          "delete_cmd_prefix": "del ",
          "library": "var_list.py",
          "varRefreshCmd": "print(var_dic_list())"
        },
        "r": {
          "delete_cmd_postfix": ") ",
          "delete_cmd_prefix": "rm(",
          "library": "var_list.r",
          "varRefreshCmd": "cat(var_dic_list()) "
        }
      },
      "types_to_exclude": [
        "module",
        "function",
        "builtin_function_or_method",
        "instance",
        "_Feature"
      ],
      "window_display": false
    }
  },
  "nbformat": 4,
  "nbformat_minor": 0
}
